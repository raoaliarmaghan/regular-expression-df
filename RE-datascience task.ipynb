{
 "cells": [
  {
   "cell_type": "code",
   "execution_count": 131,
   "metadata": {},
   "outputs": [
    {
     "name": "stdout",
     "output_type": "stream",
     "text": [
      "Value\n",
      "youve\n",
      "yours\n",
      "youre\n",
      "your\n",
      "you\n",
      "yoga\n",
      "years\n",
      "year\n",
      "yacineconseille\n",
      "y\n",
      "x\n",
      "would\n",
      "world\n",
      "workflow\n",
      "wonderful\n"
     ]
    }
   ],
   "source": [
    "import numpy as np\n",
    "import pandas as pd\n",
    "import re\n",
    "\n",
    "regex = re.compile('[^a-zA-Z ]')\n",
    "\n",
    "df = pd.read_csv('D:\\FIVERR WORK\\o4\\cc10_advancedfunctions.csv')\n",
    "\n",
    "def distinctwords(df):\n",
    "    df['value'] = df['value'].str[6:]\n",
    "    for i in range(len(df)):\n",
    "        df['value'][i] = regex.sub('',df['value'][i])\n",
    "        \n",
    "    data = pd.DataFrame(df['value'][0].split(' '), columns=['Value'])\n",
    "    for i in range(1,len(df)):\n",
    "        data = data.append(pd.DataFrame(df['value'][i].split(' '), columns=['Value']), ignore_index=True)\n",
    "        \n",
    "    data.drop_duplicates(keep='first', inplace=True)\n",
    "    data.sort_values(\"Value\", inplace = True, ascending=False)\n",
    "    \n",
    "    return data\n",
    "\n",
    "df1 = distinctwords(df)\n",
    "\n",
    "print((df1.head(15).to_string(index=False).replace(' ','')))\n"
   ]
  },
  {
   "cell_type": "code",
   "execution_count": null,
   "metadata": {},
   "outputs": [],
   "source": []
  }
 ],
 "metadata": {
  "kernelspec": {
   "display_name": "Python 3",
   "language": "python",
   "name": "python3"
  },
  "language_info": {
   "codemirror_mode": {
    "name": "ipython",
    "version": 3
   },
   "file_extension": ".py",
   "mimetype": "text/x-python",
   "name": "python",
   "nbconvert_exporter": "python",
   "pygments_lexer": "ipython3",
   "version": "3.7.3"
  }
 },
 "nbformat": 4,
 "nbformat_minor": 2
}
